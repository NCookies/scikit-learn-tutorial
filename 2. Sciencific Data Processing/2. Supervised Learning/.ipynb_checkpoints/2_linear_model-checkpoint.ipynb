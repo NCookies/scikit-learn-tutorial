{
 "cells": [
  {
   "cell_type": "code",
   "execution_count": 3,
   "metadata": {
    "collapsed": true
   },
   "outputs": [],
   "source": [
    "from sklearn import datasets\n",
    "\n",
    "diabetes = datasets.load_diabetes()\n",
    "diabetes_X_train = diabetes.data[:-20]\n",
    "diabetes_X_test  = diabetes.data[-20:]\n",
    "diabetes_y_train = diabetes.target[:-20]\n",
    "diabetes_y_test  = diabetes.target[-20:]"
   ]
  },
  {
   "cell_type": "code",
   "execution_count": 4,
   "metadata": {
    "collapsed": false
   },
   "outputs": [
    {
     "data": {
      "text/plain": [
       "LinearRegression(copy_X=True, fit_intercept=True, n_jobs=1, normalize=False)"
      ]
     },
     "execution_count": 4,
     "metadata": {},
     "output_type": "execute_result"
    }
   ],
   "source": [
    "from sklearn import linear_model\n",
    "regr = linear_model.LinearRegression()\n",
    "\n",
    "# fit parameters of hypothesis \n",
    "regr.fit(diabetes_X_train, diabetes_y_train)"
   ]
  },
  {
   "cell_type": "code",
   "execution_count": 5,
   "metadata": {
    "collapsed": false
   },
   "outputs": [
    {
     "data": {
      "text/plain": [
       "array([  3.03499549e-01,  -2.37639315e+02,   5.10530605e+02,\n",
       "         3.27736980e+02,  -8.14131709e+02,   4.92814588e+02,\n",
       "         1.02848452e+02,   1.84606489e+02,   7.43519617e+02,\n",
       "         7.60951722e+01])"
      ]
     },
     "execution_count": 5,
     "metadata": {},
     "output_type": "execute_result"
    }
   ],
   "source": [
    "regr.coef_"
   ]
  },
  {
   "cell_type": "code",
   "execution_count": 6,
   "metadata": {
    "collapsed": false
   },
   "outputs": [
    {
     "data": {
      "text/plain": [
       "['copy_X', 'fit_intercept', 'n_jobs', 'normalize']"
      ]
     },
     "execution_count": 6,
     "metadata": {},
     "output_type": "execute_result"
    }
   ],
   "source": [
    "regr._get_param_names()"
   ]
  },
  {
   "cell_type": "code",
   "execution_count": 7,
   "metadata": {
    "collapsed": false
   },
   "outputs": [
    {
     "data": {
      "text/plain": [
       "2004.5676026898207"
      ]
     },
     "execution_count": 7,
     "metadata": {},
     "output_type": "execute_result"
    }
   ],
   "source": [
    "import numpy as np\n",
    "np.mean((regr.predict(diabetes_X_test)-diabetes_y_test)**2)"
   ]
  },
  {
   "cell_type": "code",
   "execution_count": 10,
   "metadata": {
    "collapsed": false
   },
   "outputs": [
    {
     "name": "stdout",
     "output_type": "stream",
     "text": [
      "[ 197.61846908  155.43979328  172.88665147  111.53537279  164.80054784\n",
      "  131.06954875  259.12237761  100.47935157  117.0601052   124.30503555\n",
      "  218.36632793   61.19831284  132.25046751  120.3332925    52.54458691\n",
      "  194.03798088  102.57139702  123.56604987  211.0346317    52.60335674]\n",
      "[ 233.   91.  111.  152.  120.   67.  310.   94.  183.   66.  173.   72.\n",
      "   49.   64.   48.  178.  104.  132.  220.   57.]\n"
     ]
    }
   ],
   "source": [
    "print(regr.predict(diabetes_X_test))\n",
    "print(diabetes_y_test)"
   ]
  },
  {
   "cell_type": "code",
   "execution_count": 11,
   "metadata": {
    "collapsed": false
   },
   "outputs": [
    {
     "data": {
      "text/plain": [
       "0.58507530226905746"
      ]
     },
     "execution_count": 11,
     "metadata": {},
     "output_type": "execute_result"
    }
   ],
   "source": [
    "regr.score(diabetes_X_test, diabetes_y_test)"
   ]
  },
  {
   "cell_type": "code",
   "execution_count": 14,
   "metadata": {
    "collapsed": false
   },
   "outputs": [
    {
     "data": {
      "text/html": [
       "위의 결과들을 보면 알겠지만 정확도가 별로 높지 않음\n",
       "</br>\n",
       "score 메서드는 Returns the coefficient of determination R^2 of the prediction. 라고 설명되어 있는데 np.mean(~~)한 식과 같은 내용이다.\n",
       "</br>\n",
       "각 차원마다 data point(?)가 적으면 예측한 값들의 variance 가 높다(= 데이터들이 분산되어 있음)"
      ],
      "text/plain": [
       "위의 결과들을 보면 알겠지만 정확도가 별로 높지 않음\n",
       "</br>\n",
       "score 메서드는 Returns the coefficient of determination R^2 of the prediction. 라고 설명되어 있는데 np.mean(~~)한 식과 같은 내용이다.\n",
       "</br>\n",
       "각 차원마다 data point(?)가 적으면 예측한 값들의 variance 가 높다(= 데이터들이 분산되어 있음)"
      ]
     },
     "execution_count": 0,
     "metadata": {},
     "output_type": "execute_result"
    }
   ],
   "source": [
    "%%html\n",
    "위의 결과들을 보면 알겠지만 정확도가 별로 높지 않음\n",
    "</br>\n",
    "score 메서드는 Returns the coefficient of determination R^2 of the prediction. 라고 설명되어 있는데 np.mean(~~)한 식과 같은 내용이다.\n",
    "</br>\n",
    "각 차원마다 data point(?)가 적으면 예측한 값들의 variance 가 높다(= 데이터들이 분산되어 있음)"
   ]
  },
  {
   "cell_type": "code",
   "execution_count": 15,
   "metadata": {
    "collapsed": false
   },
   "outputs": [
    {
     "name": "stdout",
     "output_type": "stream",
     "text": [
      "(array([[ 0.5],\n",
      "       [ 1. ]]), [0.5, 1], array([[0],\n",
      "       [2]]))\n"
     ]
    }
   ],
   "source": [
    "X = np.c_[.5, 1].T\n",
    "y = [.5, 1]\n",
    "test = np.c_[0, 2].T\n",
    "print(X, y, test)"
   ]
  },
  {
   "cell_type": "code",
   "execution_count": 16,
   "metadata": {
    "collapsed": false
   },
   "outputs": [
    {
     "name": "stdout",
     "output_type": "stream",
     "text": [
      "('this_X : ', array([[ 0.67640523],\n",
      "       [ 1.04001572]]))\n",
      "('this_X : ', array([[ 0.5978738 ],\n",
      "       [ 1.22408932]]))\n",
      "('this_X : ', array([[ 0.6867558 ],\n",
      "       [ 0.90227221]]))\n",
      "('this_X : ', array([[ 0.59500884],\n",
      "       [ 0.98486428]]))\n",
      "('this_X : ', array([[ 0.48967811],\n",
      "       [ 1.04105985]]))\n",
      "('this_X : ', array([[ 0.51440436],\n",
      "       [ 1.14542735]]))\n"
     ]
    }
   ],
   "source": [
    "import matplotlib.pyplot as plt\n",
    "plt.figure()\n",
    "\n",
    "np.random.seed(0)\n",
    "for _ in range(6):\n",
    "    this_X = .1 * np.random.normal(size=(2, 1)) + X\n",
    "    print('this_X : ', this_X)\n",
    "    regr.fit(X, y)\n",
    "    plt.plot(test, regr.predict(test))\n",
    "    plt.scatter(this_X, y, s=3)"
   ]
  }
 ],
 "metadata": {
  "kernelspec": {
   "display_name": "Python 2",
   "language": "python",
   "name": "python2"
  },
  "language_info": {
   "codemirror_mode": {
    "name": "ipython",
    "version": 2
   },
   "file_extension": ".py",
   "mimetype": "text/x-python",
   "name": "python",
   "nbconvert_exporter": "python",
   "pygments_lexer": "ipython2",
   "version": "2.7.12"
  }
 },
 "nbformat": 4,
 "nbformat_minor": 0
}
