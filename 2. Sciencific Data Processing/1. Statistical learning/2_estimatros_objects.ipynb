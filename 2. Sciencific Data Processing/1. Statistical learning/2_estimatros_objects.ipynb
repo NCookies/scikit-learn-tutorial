{
 "cells": [
  {
   "cell_type": "code",
   "execution_count": 2,
   "metadata": {
    "collapsed": true
   },
   "outputs": [],
   "source": [
    "import sklearn"
   ]
  },
  {
   "cell_type": "markdown",
   "metadata": {},
   "source": [
    "All estimator objects expose a fit method that takes a dataset (usually a 2-d array):\n",
    "`estimator.fit(data)`"
   ]
  },
  {
   "cell_type": "code",
   "execution_count": 6,
   "metadata": {},
   "outputs": [
    {
     "data": {
      "text/plain": [
       "'hello'"
      ]
     },
     "execution_count": 6,
     "metadata": {},
     "output_type": "execute_result"
    }
   ],
   "source": [
    "# -*- coding: utf-8 -*-\n",
    "'hello'"
   ]
  },
  {
   "cell_type": "markdown",
   "metadata": {},
   "source": [
    "# 참고로 이 글은 classifier, regression, clustering 같은 모델을 학습시키기 위해 사용하는 객체 및 클래스를 extimator 라고 함"
   ]
  },
  {
   "cell_type": "markdown",
   "metadata": {},
   "source": [
    "- Estimator parameters: All the parameters of an estimator can be set when it is instantiated or by modifying the corresponding attribute:\n",
    "- estimator 사용할 때에는 인자 전달함 ㅇㅇ\n",
    "```\n",
    ">>> estimator = Estimator(param1=1, param2=2)\n",
    ">>> estimator.param1\n",
    "1\n",
    "```"
   ]
  },
  {
   "cell_type": "markdown",
   "metadata": {},
   "source": [
    "- Estimated parameters: When data is fitted with an estimator, parameters are estimated from the data at hand. All the estimated parameters are attributes of the estimator object ending by an underscore:\n",
    "- 아래와 같은 코드로 estimator 의 파라미터에 접근할 수 있음\n",
    "```\n",
    "estimator.estimated_param_\n",
    "```"
   ]
  }
 ],
 "metadata": {
  "kernelspec": {
   "display_name": "Python 2",
   "language": "python",
   "name": "python2"
  },
  "language_info": {
   "codemirror_mode": {
    "name": "ipython",
    "version": 2.0
   },
   "file_extension": ".py",
   "mimetype": "text/x-python",
   "name": "python",
   "nbconvert_exporter": "python",
   "pygments_lexer": "ipython2",
   "version": "2.7.6"
  }
 },
 "nbformat": 4,
 "nbformat_minor": 0
}